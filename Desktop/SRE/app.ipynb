{
 "cells": [
  {
   "cell_type": "code",
   "execution_count": 6,
   "metadata": {},
   "outputs": [],
   "source": [
    "import pickle"
   ]
  },
  {
   "cell_type": "code",
   "execution_count": 11,
   "metadata": {
    "collapsed": true
   },
   "outputs": [
    {
     "name": "stdout",
     "output_type": "stream",
     "text": [
      "Collecting flask_bootstrap\n",
      "  Using cached Flask-Bootstrap-3.3.7.1.tar.gz (456 kB)\n",
      "Requirement already satisfied: Flask>=0.8 in c:\\programdata\\anaconda3\\lib\\site-packages (from flask_bootstrap) (1.1.2)\n",
      "Collecting dominate\n",
      "  Downloading dominate-2.7.0-py2.py3-none-any.whl (29 kB)\n",
      "Collecting visitor\n",
      "  Using cached visitor-0.1.3.tar.gz (3.3 kB)\n",
      "Requirement already satisfied: click>=5.1 in c:\\programdata\\anaconda3\\lib\\site-packages (from Flask>=0.8->flask_bootstrap) (7.1.2)\n",
      "Requirement already satisfied: Werkzeug>=0.15 in c:\\programdata\\anaconda3\\lib\\site-packages (from Flask>=0.8->flask_bootstrap) (1.0.1)\n",
      "Requirement already satisfied: Jinja2>=2.10.1 in c:\\programdata\\anaconda3\\lib\\site-packages (from Flask>=0.8->flask_bootstrap) (2.11.2)\n",
      "Requirement already satisfied: itsdangerous>=0.24 in c:\\programdata\\anaconda3\\lib\\site-packages (from Flask>=0.8->flask_bootstrap) (1.1.0)\n",
      "Requirement already satisfied: MarkupSafe>=0.23 in c:\\programdata\\anaconda3\\lib\\site-packages (from Jinja2>=2.10.1->Flask>=0.8->flask_bootstrap) (1.1.1)\n",
      "Building wheels for collected packages: flask-bootstrap, visitor\n",
      "  Building wheel for flask-bootstrap (setup.py): started\n",
      "  Building wheel for flask-bootstrap (setup.py): finished with status 'done'\n",
      "  Created wheel for flask-bootstrap: filename=Flask_Bootstrap-3.3.7.1-py3-none-any.whl size=460128 sha256=d4742b7ce5c41431651786bf2381609fcd3a57b7959d4a2a46ce9fd247d563bb\n",
      "  Stored in directory: c:\\users\\vdela\\appdata\\local\\pip\\cache\\wheels\\f2\\a3\\85\\fe8b65a65a447c9906e3b7edb7d9e6c74dfa9c8425c3dd3007\n",
      "  Building wheel for visitor (setup.py): started\n",
      "  Building wheel for visitor (setup.py): finished with status 'done'\n",
      "  Created wheel for visitor: filename=visitor-0.1.3-py3-none-any.whl size=3935 sha256=34ce4fbf4291bb0c7aeecf99113b0fbf6b960cb90da7eaacf4f2a24c8ad09695\n",
      "  Stored in directory: c:\\users\\vdela\\appdata\\local\\pip\\cache\\wheels\\d3\\40\\52\\5dae7760434a82caf8b8f88323029188b2d4ea3ac1235e550a\n",
      "Successfully built flask-bootstrap visitor\n",
      "Installing collected packages: dominate, visitor, flask-bootstrap\n",
      "Successfully installed dominate-2.7.0 flask-bootstrap-3.3.7.1 visitor-0.1.3\n"
     ]
    }
   ],
   "source": [
    "!pip install flask_bootstrap"
   ]
  },
  {
   "cell_type": "code",
   "execution_count": 12,
   "metadata": {
    "scrolled": true
   },
   "outputs": [],
   "source": [
    "from flask import Flask,render_template,url_for,request\n",
    "from flask_bootstrap import Bootstrap \n",
    "import pandas as pd \n",
    "import numpy as np "
   ]
  },
  {
   "cell_type": "code",
   "execution_count": 9,
   "metadata": {},
   "outputs": [
    {
     "name": "stderr",
     "output_type": "stream",
     "text": [
      "C:\\ProgramData\\Anaconda3\\lib\\site-packages\\sklearn\\base.py:329: UserWarning: Trying to unpickle estimator LogisticRegression from version 1.1.2 when using version 0.23.2. This might lead to breaking code or invalid results. Use at your own risk.\n",
      "  warnings.warn(\n"
     ]
    }
   ],
   "source": [
    "modelo  = pickle.load(open(\"pickle_model.pkl\",\"rb\"))"
   ]
  },
  {
   "cell_type": "code",
   "execution_count": 13,
   "metadata": {},
   "outputs": [
    {
     "data": {
      "text/plain": [
       "<flask_bootstrap.Bootstrap at 0x24aa943d8e0>"
      ]
     },
     "execution_count": 13,
     "metadata": {},
     "output_type": "execute_result"
    }
   ],
   "source": [
    "app = Flask(__name__)\n",
    "Bootstrap(app)"
   ]
  },
  {
   "cell_type": "code",
   "execution_count": 14,
   "metadata": {},
   "outputs": [],
   "source": [
    "@app.route('/', methods=['GET', 'POST'])\n",
    "def index(): return render_template('index.html')"
   ]
  },
  {
   "cell_type": "code",
   "execution_count": 18,
   "metadata": {},
   "outputs": [
    {
     "name": "stdout",
     "output_type": "stream",
     "text": [
      "LogisticRegression(class_weight='balanced')\n"
     ]
    }
   ],
   "source": [
    "print(modelo)"
   ]
  },
  {
   "cell_type": "code",
   "execution_count": 41,
   "metadata": {},
   "outputs": [
    {
     "ename": "SyntaxError",
     "evalue": "invalid syntax (<ipython-input-41-ac29a09d510f>, line 1)",
     "output_type": "error",
     "traceback": [
      "\u001b[1;36m  File \u001b[1;32m\"<ipython-input-41-ac29a09d510f>\"\u001b[1;36m, line \u001b[1;32m1\u001b[0m\n\u001b[1;33m    x=[0 0 0 0 0 0 0 0 0 0 0 0 1 0 0 0 0 0 0 0 0 0 0 1 0 0 0 0 0 0 0 0 0 0 0 1 0]\u001b[0m\n\u001b[1;37m         ^\u001b[0m\n\u001b[1;31mSyntaxError\u001b[0m\u001b[1;31m:\u001b[0m invalid syntax\n"
     ]
    }
   ],
   "source": [
    "#x=[0 0 0 0 0 0 0 0 0 0 0 0 1 0 0 0 0 0 0 0 0 0 0 1 0 0 0 0 0 0 0 0 0 0 0 1 0]"
   ]
  },
  {
   "cell_type": "code",
   "execution_count": 33,
   "metadata": {},
   "outputs": [],
   "source": [
    "#x=[0,0,0,0,0,0,0,0,0,0,0,0,1,0,0,0,0,0,0,0,0,0,0,1,0,0,0,0,0,0,0,0,0,0,0,1,0]"
   ]
  },
  {
   "cell_type": "code",
   "execution_count": 44,
   "metadata": {},
   "outputs": [],
   "source": [
    "#u = pd.DataFrame([x])"
   ]
  },
  {
   "cell_type": "code",
   "execution_count": 45,
   "metadata": {},
   "outputs": [
    {
     "data": {
      "text/html": [
       "<div>\n",
       "<style scoped>\n",
       "    .dataframe tbody tr th:only-of-type {\n",
       "        vertical-align: middle;\n",
       "    }\n",
       "\n",
       "    .dataframe tbody tr th {\n",
       "        vertical-align: top;\n",
       "    }\n",
       "\n",
       "    .dataframe thead th {\n",
       "        text-align: right;\n",
       "    }\n",
       "</style>\n",
       "<table border=\"1\" class=\"dataframe\">\n",
       "  <thead>\n",
       "    <tr style=\"text-align: right;\">\n",
       "      <th></th>\n",
       "      <th>0</th>\n",
       "      <th>1</th>\n",
       "      <th>2</th>\n",
       "      <th>3</th>\n",
       "      <th>4</th>\n",
       "      <th>5</th>\n",
       "      <th>6</th>\n",
       "      <th>7</th>\n",
       "      <th>8</th>\n",
       "      <th>9</th>\n",
       "      <th>...</th>\n",
       "      <th>27</th>\n",
       "      <th>28</th>\n",
       "      <th>29</th>\n",
       "      <th>30</th>\n",
       "      <th>31</th>\n",
       "      <th>32</th>\n",
       "      <th>33</th>\n",
       "      <th>34</th>\n",
       "      <th>35</th>\n",
       "      <th>36</th>\n",
       "    </tr>\n",
       "  </thead>\n",
       "  <tbody>\n",
       "    <tr>\n",
       "      <th>0</th>\n",
       "      <td>0</td>\n",
       "      <td>0</td>\n",
       "      <td>0</td>\n",
       "      <td>0</td>\n",
       "      <td>0</td>\n",
       "      <td>0</td>\n",
       "      <td>0</td>\n",
       "      <td>0</td>\n",
       "      <td>0</td>\n",
       "      <td>0</td>\n",
       "      <td>...</td>\n",
       "      <td>0</td>\n",
       "      <td>0</td>\n",
       "      <td>0</td>\n",
       "      <td>0</td>\n",
       "      <td>0</td>\n",
       "      <td>0</td>\n",
       "      <td>0</td>\n",
       "      <td>0</td>\n",
       "      <td>1</td>\n",
       "      <td>0</td>\n",
       "    </tr>\n",
       "  </tbody>\n",
       "</table>\n",
       "<p>1 rows × 37 columns</p>\n",
       "</div>"
      ],
      "text/plain": [
       "   0   1   2   3   4   5   6   7   8   9   ...  27  28  29  30  31  32  33  \\\n",
       "0   0   0   0   0   0   0   0   0   0   0  ...   0   0   0   0   0   0   0   \n",
       "\n",
       "   34  35  36  \n",
       "0   0   1   0  \n",
       "\n",
       "[1 rows x 37 columns]"
      ]
     },
     "execution_count": 45,
     "metadata": {},
     "output_type": "execute_result"
    }
   ],
   "source": [
    "#u"
   ]
  },
  {
   "cell_type": "code",
   "execution_count": 52,
   "metadata": {},
   "outputs": [],
   "source": [
    "#p=modelo.predict(u)[0]"
   ]
  },
  {
   "cell_type": "code",
   "execution_count": 58,
   "metadata": {},
   "outputs": [],
   "source": [
    "#"
   ]
  },
  {
   "cell_type": "code",
   "execution_count": 57,
   "metadata": {},
   "outputs": [],
   "source": [
    "app.route('/Predecir', methods=['POST'])\n",
    "def Predecir():\n",
    "\tif request.method == 'POST':\n",
    "\t\tx0,x1,x2,x3,x4,x5,x6,x7,x8,x9,x10,x11,x12,x13,x14,x15,x16,x17,x18,x19,x20,x21,x22,x23,x24,x25,x26,x27,x28,x29,x30,x31,x32,x33,x34,x35,x36=form(1)[0],form(1)[1],form(1)[2],form(1)[3],form(1)[4],form(1)[5],form(1)[6],form(1)[7],form(1)[8],form(1)[9],form(1)[10],form(1)[11],form(1)[12],form(1)[13],form(1)[14],form(1)[15],form(1)[16],form(1)[17],form(1)[18],form(1)[19],form(1)[20],form(1)[21],form(1)[22],form(1)[23],form(1)[24],form(1)[25],form(1)[26],form(1)[27],form(1)[28],form(1)[29],form(1)[30],form(1)[31],form(1)[32],form(1)[33],form(1)[34],form(1)[35],form(1)[34],form(1)[36]\n",
    "        \n",
    "\tmy_predictionA_dia = rgs_modelo_dia.predict(pd.DataFrame({'x0':[x0],'x1':[x1],'x2':[x2],'x3':[x3],\n",
    "                                                              'x4':[x4],'x5':[x5],'x6':[x6],'x7':[x7],\n",
    "                                                              'x8':[x8],'x9':[x9],'x10':[x10],'x11':[x11],\n",
    "                                                              'x12':[x12],'x13':[x13],'x14':[x14],'x15':[x15],\n",
    "                                                              'x16':[x16],'x17':[x17],'x18':[x18],'x19':[x19],\n",
    "                                                              'x20':[x20],'x21':[x21],'x22':[x22],'x23':[x23],\n",
    "                                                              'x24':[x24],'x25':[x25],'x26':[x26],'x27':[x27],\n",
    "                                                              'x28':[x28],'x29':[x29],'x30':[x30],'x31':[x31],\n",
    "                                                              'x32':[x32],'x33':[x33],'x34':[x34],'x35':[x35],\n",
    "                                                              'x36':[x36]\n",
    "                                                             }))\n",
    "\n",
    "\treturn render_template('Tendencia.html',dia=dia,mes=mes,my_predictionA_dia=int(my_predictionA_dia)) \t"
   ]
  },
  {
   "cell_type": "code",
   "execution_count": null,
   "metadata": {},
   "outputs": [],
   "source": [
    "if __name__ == '__main__': app.run(debug=True)"
   ]
  }
 ],
 "metadata": {
  "kernelspec": {
   "display_name": "Python 3",
   "language": "python",
   "name": "python3"
  },
  "language_info": {
   "codemirror_mode": {
    "name": "ipython",
    "version": 3
   },
   "file_extension": ".py",
   "mimetype": "text/x-python",
   "name": "python",
   "nbconvert_exporter": "python",
   "pygments_lexer": "ipython3",
   "version": "3.8.5"
  }
 },
 "nbformat": 4,
 "nbformat_minor": 4
}
